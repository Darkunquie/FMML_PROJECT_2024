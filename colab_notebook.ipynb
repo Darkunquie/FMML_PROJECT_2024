{
  "nbformat": 4,
  "nbformat_minor": 0,
  "metadata": {
    "colab": {
      "provenance": [],
      "authorship_tag": "ABX9TyMpPkxt9/VaDn7x6WMomdUi",
      "include_colab_link": true
    },
    "kernelspec": {
      "name": "python3",
      "display_name": "Python 3"
    },
    "language_info": {
      "name": "python"
    }
  },
  "cells": [
    {
      "cell_type": "markdown",
      "metadata": {
        "id": "view-in-github",
        "colab_type": "text"
      },
      "source": [
        "<a href=\"https://colab.research.google.com/github/Darkunquie/FMML_PROJECT_2024/blob/main/colab_notebook.ipynb\" target=\"_parent\"><img src=\"https://colab.research.google.com/assets/colab-badge.svg\" alt=\"Open In Colab\"/></a>"
      ]
    },
    {
      "cell_type": "code",
      "execution_count": null,
      "metadata": {
        "id": "vgef3nAnjYnf"
      },
      "outputs": [],
      "source": []
    },
    {
      "cell_type": "code",
      "source": [
        "import numpy as np\n",
        "import matplotlib.pyplot as plt"
      ],
      "metadata": {
        "id": "0yNLiPrnkPvg"
      },
      "execution_count": 2,
      "outputs": []
    },
    {
      "cell_type": "code",
      "source": [
        "a = [[11,22,44,55],[2,3,4,5]]\n",
        "b = np.transpose(a)\n",
        "print('a\\n',a)\n",
        "print('b\\n',b)"
      ],
      "metadata": {
        "colab": {
          "base_uri": "https://localhost:8080/"
        },
        "id": "Kd-OtMt8kpPu",
        "outputId": "b677a8ad-b154-4f2b-b67a-6e6d2584b7ec"
      },
      "execution_count": null,
      "outputs": [
        {
          "output_type": "stream",
          "name": "stdout",
          "text": [
            "a\n",
            " [[11, 22, 44, 55], [2, 3, 4, 5]]\n",
            "b\n",
            " [[11  2]\n",
            " [22  3]\n",
            " [44  4]\n",
            " [55  5]]\n"
          ]
        }
      ]
    },
    {
      "cell_type": "code",
      "source": [
        "print (\"Matrix and its Transpose\")\n",
        "a = np.array([[1,2,3,4],[2,3,4,5]])\n",
        "b = a.T\n",
        "print('a\\n',a)\n",
        "print('b\\n',b)"
      ],
      "metadata": {
        "colab": {
          "base_uri": "https://localhost:8080/"
        },
        "id": "sT2O8nJymjuz",
        "outputId": "0919262e-2df4-4af2-efd7-c990e6b2e4fd"
      },
      "execution_count": 5,
      "outputs": [
        {
          "output_type": "stream",
          "name": "stdout",
          "text": [
            "Matrix and its Transpose\n",
            "a\n",
            " [[1 2 3 4]\n",
            " [2 3 4 5]]\n",
            "b\n",
            " [[1 2]\n",
            " [2 3]\n",
            " [3 4]\n",
            " [4 5]]\n"
          ]
        }
      ]
    }
  ]
}