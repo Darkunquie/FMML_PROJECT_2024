{
  "nbformat": 4,
  "nbformat_minor": 0,
  "metadata": {
    "colab": {
      "provenance": [],
      "authorship_tag": "ABX9TyPsXJWp4xVHM+Rq6HG68gDh",
      "include_colab_link": true
    },
    "kernelspec": {
      "name": "python3",
      "display_name": "Python 3"
    },
    "language_info": {
      "name": "python"
    }
  },
  "cells": [
    {
      "cell_type": "markdown",
      "metadata": {
        "id": "view-in-github",
        "colab_type": "text"
      },
      "source": [
        "<a href=\"https://colab.research.google.com/github/Darkunquie/FMML_PROJECT_2024/blob/main/Module_6_Lab_1.ipynb\" target=\"_parent\"><img src=\"https://colab.research.google.com/assets/colab-badge.svg\" alt=\"Open In Colab\"/></a>"
      ]
    },
    {
      "cell_type": "markdown",
      "source": [
        "##Implementing forward propagation and back propagation"
      ],
      "metadata": {
        "id": "Hq1vko8WyO_r"
      }
    },
    {
      "cell_type": "markdown",
      "source": [
        "Implementation"
      ],
      "metadata": {
        "id": "pQhdlmp4yyjq"
      }
    },
    {
      "cell_type": "code",
      "execution_count": 1,
      "metadata": {
        "id": "B7VLy2QGyCT2"
      },
      "outputs": [],
      "source": [
        "import torch\n",
        "import torch.nn as nn"
      ]
    },
    {
      "cell_type": "code",
      "source": [
        "from sklearn import datasets\n",
        "from sklearn import preprocessing\n",
        "iris = datasets.load_iris()\n",
        "X = torch.tensor(preprocessing.normalize(iris.data[:, :2]), dtype=torch.float)\n",
        "y = torch.tensor(iris.target.reshape(-1, 1), dtype=torch.float)"
      ],
      "metadata": {
        "id": "RCmkyB9Ty2so"
      },
      "execution_count": 2,
      "outputs": []
    },
    {
      "cell_type": "code",
      "source": [
        "torch.manual_seed(2)"
      ],
      "metadata": {
        "colab": {
          "base_uri": "https://localhost:8080/"
        },
        "id": "lASJrlaly8nf",
        "outputId": "96e1d56b-3d6f-4b7a-aa2b-02b1f227f659"
      },
      "execution_count": 3,
      "outputs": [
        {
          "output_type": "execute_result",
          "data": {
            "text/plain": [
              "<torch._C.Generator at 0x79275f7bcef0>"
            ]
          },
          "metadata": {},
          "execution_count": 3
        }
      ]
    },
    {
      "cell_type": "code",
      "source": [
        "print(X.size())\n",
        "print(y.size())"
      ],
      "metadata": {
        "colab": {
          "base_uri": "https://localhost:8080/"
        },
        "id": "Zvi_hn0VzDc3",
        "outputId": "772ee569-4db4-4ff8-d587-71ed5876b6b4"
      },
      "execution_count": 4,
      "outputs": [
        {
          "output_type": "stream",
          "name": "stdout",
          "text": [
            "torch.Size([150, 2])\n",
            "torch.Size([150, 1])\n"
          ]
        }
      ]
    },
    {
      "cell_type": "code",
      "source": [
        "print(torch.randn(2, 32).size())"
      ],
      "metadata": {
        "colab": {
          "base_uri": "https://localhost:8080/"
        },
        "id": "VKth5U_UzH1j",
        "outputId": "6b59d3bc-450b-44e2-b680-39e78b2a2be8"
      },
      "execution_count": 5,
      "outputs": [
        {
          "output_type": "stream",
          "name": "stdout",
          "text": [
            "torch.Size([2, 32])\n"
          ]
        }
      ]
    },
    {
      "cell_type": "code",
      "source": [
        "class FNN(nn.Module):\n",
        "    def __init__(self, ):\n",
        "        super().__init__()\n",
        "\n",
        "        # Dimensions for input, hidden and output\n",
        "        self.input_dim = 2\n",
        "        self.hidden_dim = 32\n",
        "        self.output_dim = 1\n",
        "\n",
        "        # Learning rate\n",
        "        self.learning_rate = 0.001\n",
        "\n",
        "        # Our parameters (weights)\n",
        "        # w1: 2 x 32\n",
        "        self.w1 = torch.randn(self.input_dim, self.hidden_dim)\n",
        "\n",
        "        # w2: 32 x 1\n",
        "        self.w2 = torch.randn(self.hidden_dim, self.output_dim)\n",
        "\n",
        "    def sigmoid(self, s):\n",
        "        return 1 / (1 + torch.exp(-s))\n",
        "\n",
        "    def sigmoid_first_order_derivative(self, s):\n",
        "        return s * (1 - s)\n",
        "\n",
        "    # Forward propagation\n",
        "    def forward(self, X):\n",
        "        # First linear layer\n",
        "        self.y1 = torch.matmul(X, self.w1) # 3 X 3 \".dot\" does not broadcast in PyTorch\n",
        "\n",
        "        # First non-linearity\n",
        "        self.y2 = self.sigmoid(self.y1)\n",
        "\n",
        "        # Second linear layer\n",
        "        self.y3 = torch.matmul(self.y2, self.w2)\n",
        "\n",
        "        # Second non-linearity\n",
        "        y4 = self.sigmoid(self.y3)\n",
        "        return y4\n",
        "\n",
        "    # Backward propagation\n",
        "    def backward(self, X, l, y4):\n",
        "        self.dC_dy4 = y4 - l\n",
        "\n",
        "        self.dy4_dy3 = self.sigmoid_first_order_derivative(y4)\n",
        "        self.dy3_dw2 = self.y2\n",
        "\n",
        "        self.y4_delta = self.dC_dy4 * self.dy4_dy3\n",
        "\n",
        "        self.dC_dw2 = torch.matmul(torch.t(self.dy3_dw2), self.y4_delta)\n",
        "\n",
        "        self.dy3_dy2 = self.w2\n",
        "        self.dy2_dy1 = self.sigmoid_first_order_derivative(self.y2)\n",
        "\n",
        "        self.y2_delta = torch.matmul(self.y4_delta, torch.t(self.dy3_dy2)) * self.dy2_dy1\n",
        "\n",
        "        self.dC_dw1 = torch.matmul(torch.t(X), self.y2_delta)\n",
        "        self.w1 -= self.learning_rate * self.dC_dw1\n",
        "        self.w2 -= self.learning_rate * self.dC_dw2\n",
        "\n",
        "    def train(self, X, l):\n",
        "        y4 = self.forward(X)\n",
        "        self.backward(X, l, y4)"
      ],
      "metadata": {
        "id": "PgbjqrznzKiQ"
      },
      "execution_count": 6,
      "outputs": []
    },
    {
      "cell_type": "code",
      "source": [
        "model = FNN()\n",
        "\n",
        "# Loss list for plotting of loss behaviour\n",
        "loss_lst = []\n",
        "\n",
        "# Number of epochs\n",
        "num_epochs = 101\n",
        "\n",
        "# Let's train our model with 100 epochs\n",
        "for epoch in range(num_epochs):\n",
        "    # Get our predictions\n",
        "    y_hat = model(X)\n",
        "\n",
        "    # Cross entropy loss\n",
        "    cross_entropy_loss = -(y * torch.log(y_hat) + (1 - y) * torch.log(1 - y_hat))\n",
        "\n",
        "    # We have to take cross entropy loss over all our samples, 100 in this 2-class iris dataset, thus we find the mean\n",
        "    mean_cross_entropy_loss = torch.mean(cross_entropy_loss).detach().item()\n",
        "\n",
        "    # Print our mean cross entropy loss every 20 epochs\n",
        "    if epoch % 20 == 0:\n",
        "        print('Epoch {} | Loss: {}'.format(epoch, mean_cross_entropy_loss))\n",
        "    loss_lst.append(mean_cross_entropy_loss)\n",
        "\n",
        "    ## Main steps followed\n",
        "    # (1) Forward propagation: to get our predictions to pass to our cross entropy loss function\n",
        "    # (2) Back propagation: get our partial derivatives w.r.t. parameters (gradients)\n",
        "    # (3) Gradient Descent: update our weights with our gradients\n",
        "    model.train(X, y)"
      ],
      "metadata": {
        "colab": {
          "base_uri": "https://localhost:8080/"
        },
        "id": "p0Z1gIW4z9UD",
        "outputId": "b9ee5f10-b3bb-44a9-81ef-3d4a29def6d7"
      },
      "execution_count": 7,
      "outputs": [
        {
          "output_type": "stream",
          "name": "stdout",
          "text": [
            "Epoch 0 | Loss: 0.17494319379329681\n",
            "Epoch 20 | Loss: 0.09005710482597351\n",
            "Epoch 40 | Loss: 0.06124666705727577\n",
            "Epoch 60 | Loss: 0.045647893100976944\n",
            "Epoch 80 | Loss: 0.03546906262636185\n",
            "Epoch 100 | Loss: 0.028117701411247253\n"
          ]
        }
      ]
    },
    {
      "cell_type": "markdown",
      "source": [
        "**Now we create a plot of the loss.**"
      ],
      "metadata": {
        "id": "rLu2rvag0IuO"
      }
    },
    {
      "cell_type": "code",
      "source": [
        "import pandas as pd\n",
        "%matplotlib inline\n",
        "pd.Series(loss_lst).plot()"
      ],
      "metadata": {
        "colab": {
          "base_uri": "https://localhost:8080/",
          "height": 448
        },
        "id": "hSMTp_upz95N",
        "outputId": "2ce41852-ba1d-4d32-8f4c-6427b34b373c"
      },
      "execution_count": 8,
      "outputs": [
        {
          "output_type": "execute_result",
          "data": {
            "text/plain": [
              "<Axes: >"
            ]
          },
          "metadata": {},
          "execution_count": 8
        },
        {
          "output_type": "display_data",
          "data": {
            "text/plain": [
              "<Figure size 640x480 with 1 Axes>"
            ],
            "image/png": "[encoded data removed]"
          },
          "metadata": {}
        }
      ]
    },
    {
      "cell_type": "code",
      "source": [],
      "metadata": {
        "id": "dY3NV0Of0OjP"
      },
      "execution_count": null,
      "outputs": []
    }
  ]
}