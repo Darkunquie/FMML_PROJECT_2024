{
  "nbformat": 4,
  "nbformat_minor": 0,
  "metadata": {
    "colab": {
      "provenance": [],
      "authorship_tag": "ABX9TyO4p4BX/BvaH0nqLSGaBapx",
      "include_colab_link": true
    },
    "kernelspec": {
      "name": "python3",
      "display_name": "Python 3"
    },
    "language_info": {
      "name": "python"
    }
  },
  "cells": [
    {
      "cell_type": "markdown",
      "metadata": {
        "id": "view-in-github",
        "colab_type": "text"
      },
      "source": [
        "<a href=\"https://colab.research.google.com/github/Darkunquie/FMML_PROJECT_2024/blob/main/module%201%20lab%203.ipynb\" target=\"_parent\"><img src=\"https://colab.research.google.com/assets/colab-badge.svg\" alt=\"Open In Colab\"/></a>"
      ]
    },
    {
      "cell_type": "markdown",
      "source": [
        "Data Augmentation\n"
      ],
      "metadata": {
        "id": "DciuBHM640zE"
      }
    },
    {
      "cell_type": "code",
      "execution_count": 1,
      "metadata": {
        "id": "DU9X6f3B4SV3"
      },
      "outputs": [],
      "source": [
        "import numpy as np\n",
        "import matplotlib.pyplot as plt\n",
        "from keras.datasets import mnist\n",
        "from sklearn.utils.extmath import cartesian\n",
        "from skimage.transform import rotate, AffineTransform, warp\n",
        "\n",
        "rng = np.random.default_rng(seed=42)"
      ]
    },
    {
      "cell_type": "code",
      "source": [
        "(train_X, train_y), (test_X, test_y) = mnist.load_data()\n",
        "\n",
        "train_X = train_X / 255\n",
        "test_X = test_X / 255\n",
        "train_X = train_X[::1200, :, :].copy()\n",
        "train_y = train_y[::1200].copy()"
      ],
      "metadata": {
        "colab": {
          "base_uri": "https://localhost:8080/"
        },
        "id": "eyy-_QuP477A",
        "outputId": "98489bd2-2da4-4be1-eb7f-fe32d246718b"
      },
      "execution_count": 2,
      "outputs": [
        {
          "output_type": "stream",
          "name": "stdout",
          "text": [
            "Downloading data from https://storage.googleapis.com/tensorflow/tf-keras-datasets/mnist.npz\n",
            "11490434/11490434 [==============================] - 0s 0us/step\n"
          ]
        }
      ]
    },
    {
      "cell_type": "code",
      "source": [
        "def NN1(traindata, trainlabel, query):\n",
        "    diff = (\n",
        "        traindata - query\n",
        "    )\n",
        "    sq = diff * diff\n",
        "    dist = sq.sum(1)\n",
        "    label = trainlabel[np.argmin(dist)]\n",
        "    return label"
      ],
      "metadata": {
        "id": "rfcc93Gr5E4H"
      },
      "execution_count": 3,
      "outputs": []
    },
    {
      "cell_type": "code",
      "source": [
        "\n",
        "def NN(traindata, trainlabel, testdata):\n",
        "    traindata = traindata.reshape(-1, 28*28)\n",
        "    testdata = testdata.reshape(-1, 28*28)\n",
        "    predlabel = np.array([NN1(traindata, trainlabel, i) for i in testdata])\n",
        "    return predlabel\n",
        "\n",
        "\n",
        "def Accuracy(gtlabel, predlabel):\n",
        "    assert len(gtlabel) == len(\n",
        "        predlabel\n",
        "    )\n",
        "    correct = (\n",
        "        gtlabel == predlabel\n",
        "    ).sum()\n",
        "    return correct / len(gtlabel)"
      ],
      "metadata": {
        "id": "_OFvmdy35Sx6"
      },
      "execution_count": 5,
      "outputs": []
    },
    {
      "cell_type": "code",
      "source": [
        "testpred = NN(train_X, train_y, test_X)\n",
        "print(\"Baseline accuracy without augmentation:\",\n",
        "      Accuracy(test_y, testpred)*100, \"%\")"
      ],
      "metadata": {
        "colab": {
          "base_uri": "https://localhost:8080/"
        },
        "id": "Pjz_AMzw5r24",
        "outputId": "fb30b765-0284-4855-9035-7bb495720f8b"
      },
      "execution_count": 6,
      "outputs": [
        {
          "output_type": "stream",
          "name": "stdout",
          "text": [
            "Baseline accuracy without augmentation: 64.72 %\n"
          ]
        }
      ]
    },
    {
      "cell_type": "markdown",
      "source": [
        "Augmentation 1: Rotation\n"
      ],
      "metadata": {
        "id": "PRnsIb2I55q5"
      }
    },
    {
      "cell_type": "code",
      "source": [
        "fig, axs = plt.subplots(1, 3, figsize=(15, 5))\n",
        "\n",
        "axs[0].imshow(train_X[2], cmap=\"gray\")\n",
        "axs[0].set_title(\"Original Image\")\n",
        "\n",
        "axs[1].imshow(rotate(train_X[2], 10), cmap=\"gray\")\n",
        "axs[1].set_title(\"Rotate +10 degrees\")\n",
        "\n",
        "axs[2].imshow(rotate(train_X[2], -10), cmap=\"gray\")\n",
        "axs[2].set_title(\"Rotate -10 degrees\")\n",
        "\n",
        "plt.show()"
      ],
      "metadata": {
        "colab": {
          "base_uri": "https://localhost:8080/",
          "height": 424
        },
        "id": "E4oHAp6h5x7L",
        "outputId": "dd538d24-0369-42e2-91b9-db86e336502d"
      },
      "execution_count": 7,
      "outputs": [
        {
          "output_type": "display_data",
          "data": {
            "text/plain": [
              "<Figure size 1500x500 with 3 Axes>"
            ],
            "image/png": "[encoded data removed]"
          },
          "metadata": {}
        }
      ]
    },
    {
      "cell_type": "code",
      "source": [
        "def augRotate(sample, angleconstraint):\n",
        "    if angleconstraint == 0:\n",
        "        return sample\n",
        "    if len(sample.shape) == 2:\n",
        "        sample = np.expand_dims(sample, 0)\n",
        "    angle = rng.random(len(sample))\n",
        "    angle = (angle - 0.5) * angleconstraint\n",
        "    nsample = sample.copy()\n",
        "    for ii in range(len(sample)):\n",
        "        nsample[ii] = rotate(sample[ii], angle[ii])\n",
        "    return np.squeeze(nsample)"
      ],
      "metadata": {
        "id": "6tq5KfAm59XL"
      },
      "execution_count": 8,
      "outputs": []
    },
    {
      "cell_type": "code",
      "source": [
        "sample = train_X[20]\n",
        "angleconstraint = 70\n",
        "\n",
        "fig, axs = plt.subplots(1, 5, figsize=(15, 5))\n",
        "\n",
        "axs[0].imshow(sample, cmap=\"gray\")\n",
        "axs[0].set_title(\"Original Image\")\n",
        "\n",
        "axs[1].imshow(augRotate(sample, angleconstraint), cmap=\"gray\")\n",
        "axs[1].set_title(\"Aug. Sample 1\")\n",
        "\n",
        "axs[2].imshow(augRotate(sample, angleconstraint), cmap=\"gray\")\n",
        "axs[2].set_title(\"Aug. Sample 2\")\n",
        "\n",
        "axs[3].imshow(augRotate(sample, angleconstraint), cmap=\"gray\")\n",
        "axs[3].set_title(\"Aug. Sample 3\")\n",
        "\n",
        "axs[4].imshow(augRotate(sample, angleconstraint), cmap=\"gray\")\n",
        "axs[4].set_title(\"Aug. Sample 4\")\n",
        "\n",
        "plt.show()"
      ],
      "metadata": {
        "colab": {
          "base_uri": "https://localhost:8080/",
          "height": 283
        },
        "id": "yhzsrh6U6LGX",
        "outputId": "de45dc09-9b67-49cc-d446-97a386511d12"
      },
      "execution_count": 9,
      "outputs": [
        {
          "output_type": "display_data",
          "data": {
            "text/plain": [
              "<Figure size 1500x500 with 5 Axes>"
            ],
            "image/png": "[encoded data removed]"
          },
          "metadata": {}
        }
      ]
    },
    {
      "cell_type": "code",
      "source": [
        "\n",
        "angleconstraint = 60\n",
        "naugmentations = 5\n",
        "augdata = train_X\n",
        "auglabel = train_y\n",
        "for ii in range(naugmentations):\n",
        "    augdata = np.concatenate(\n",
        "        (augdata, augRotate(train_X, angleconstraint))\n",
        "    )\n",
        "    auglabel = np.concatenate(\n",
        "        (auglabel, train_y)\n",
        "    )\n",
        "testpred = NN(augdata, auglabel, test_X)\n",
        "print(\"Accuracy after rotation augmentation:\", Accuracy(test_y, testpred)*100, \"%\")"
      ],
      "metadata": {
        "colab": {
          "base_uri": "https://localhost:8080/"
        },
        "id": "HPDXyOvL6PQD",
        "outputId": "88523d52-f427-4a5e-fd5d-e44c11cc26ad"
      },
      "execution_count": 10,
      "outputs": [
        {
          "output_type": "stream",
          "name": "stdout",
          "text": [
            "Accuracy after rotation augmentation: 67.66 %\n"
          ]
        }
      ]
    },
    {
      "cell_type": "code",
      "source": [
        "angleconstraints = [0, 10, 20, 30, 40, 50, 60, 70, 80, 90]  # the values we want to test\n",
        "accuracies = np.zeros(\n",
        "    len(angleconstraints), dtype=float\n",
        ")\n",
        "for ii in range(len(angleconstraints)):\n",
        "    augdata = train_X\n",
        "    auglabel = train_y\n",
        "    for jj in range(naugmentations):\n",
        "        augdata = np.concatenate(\n",
        "            (augdata, augRotate(train_X, angleconstraints[ii]))\n",
        "        )\n",
        "        auglabel = np.concatenate(\n",
        "            (auglabel, train_y)\n",
        "        )\n",
        "    testpred = NN(augdata, auglabel, test_X)\n",
        "    accuracies[ii] = Accuracy(test_y, testpred)\n",
        "    print(\n",
        "        \"Accuracy after rotation augmentation constrained by\",\n",
        "        angleconstraints[ii],\n",
        "        \"degrees is\",\n",
        "        accuracies[ii]*100,\n",
        "        \"%\",\n",
        "        flush=True,\n",
        "    )"
      ],
      "metadata": {
        "colab": {
          "base_uri": "https://localhost:8080/"
        },
        "id": "jDRq6aDR6anD",
        "outputId": "b5de0995-8bc1-49f2-99e7-d6ca6c2ee009"
      },
      "execution_count": 13,
      "outputs": [
        {
          "output_type": "stream",
          "name": "stdout",
          "text": [
            "Accuracy after rotation augmentation constrained by 0 degrees is 64.72 %\n",
            "Accuracy after rotation augmentation constrained by 10 degrees is 67.42 %\n",
            "Accuracy after rotation augmentation constrained by 20 degrees is 67.23 %\n",
            "Accuracy after rotation augmentation constrained by 30 degrees is 67.58999999999999 %\n",
            "Accuracy after rotation augmentation constrained by 40 degrees is 67.78 %\n",
            "Accuracy after rotation augmentation constrained by 50 degrees is 66.57 %\n",
            "Accuracy after rotation augmentation constrained by 60 degrees is 66.96 %\n",
            "Accuracy after rotation augmentation constrained by 70 degrees is 65.45 %\n",
            "Accuracy after rotation augmentation constrained by 80 degrees is 65.55 %\n",
            "Accuracy after rotation augmentation constrained by 90 degrees is 63.239999999999995 %\n"
          ]
        }
      ]
    },
    {
      "cell_type": "code",
      "source": [
        "fig = plt.figure()\n",
        "ax = fig.add_axes([0.1, 0.1, 0.8, 0.8])\n",
        "ax.plot(angleconstraints, accuracies)\n",
        "ax.set_xlabel(\"angle\")\n",
        "ax.set_ylabel(\"accuracy\")\n",
        "maxind = np.argmax(accuracies)\n",
        "plt.scatter(angleconstraints[maxind], accuracies[maxind], c=\"red\")"
      ],
      "metadata": {
        "colab": {
          "base_uri": "https://localhost:8080/",
          "height": 482
        },
        "id": "A_gdMcw46mMI",
        "outputId": "91f1e42c-b099-455e-9670-37b571d85246"
      },
      "execution_count": 12,
      "outputs": [
        {
          "output_type": "execute_result",
          "data": {
            "text/plain": [
              "<matplotlib.collections.PathCollection at 0x7e5cbd4f5b40>"
            ]
          },
          "metadata": {},
          "execution_count": 12
        },
        {
          "output_type": "display_data",
          "data": {
            "text/plain": [
              "<Figure size 640x480 with 1 Axes>"
            ],
            "image/png": "[encoded data removed]"
          },
          "metadata": {}
        }
      ]
    },
    {
      "cell_type": "markdown",
      "source": [
        "Augmentation 2: Shear"
      ],
      "metadata": {
        "id": "an4Vip1n6w4u"
      }
    },
    {
      "cell_type": "code",
      "source": [
        "def shear(sample, amount):\n",
        "    tform = AffineTransform(shear=amount)\n",
        "    img = warp(sample, tform)\n",
        "    col = img.sum(0).nonzero()[0]\n",
        "    row = img.sum(1).nonzero()[0]\n",
        "    if len(col) > 0 and len(row) > 0:\n",
        "        xshift = int(sample.shape[0] / 2 - (row[0] + row[-1]) / 2)\n",
        "        yshift = int(sample.shape[1] / 2 - (col[0] + col[-1]) / 2)\n",
        "        img = np.roll(img, (xshift, yshift), (0, 1))\n",
        "    return img"
      ],
      "metadata": {
        "id": "VMqGDAre6sf0"
      },
      "execution_count": 14,
      "outputs": []
    },
    {
      "cell_type": "code",
      "source": [
        "sample = train_X[2]\n",
        "fig, axs = plt.subplots(1, 4, figsize=(15, 5))\n",
        "\n",
        "axs[0].imshow(sample, cmap=\"gray\")\n",
        "axs[0].set_title(\"Original Image\")\n",
        "\n",
        "axs[1].imshow(shear(sample, 0.2), cmap=\"gray\")\n",
        "axs[1].set_title(\"Amount = 0.2\")\n",
        "\n",
        "axs[2].imshow(shear(sample, 0.4), cmap=\"gray\")\n",
        "axs[2].set_title(\"Amount = 0.4\")\n",
        "\n",
        "axs[3].imshow(shear(sample, 0.6), cmap=\"gray\")\n",
        "axs[3].set_title(\"Amount = 0.6\")\n",
        "\n",
        "plt.show()"
      ],
      "metadata": {
        "colab": {
          "base_uri": "https://localhost:8080/",
          "height": 335
        },
        "id": "cqQ20SDv7MqG",
        "outputId": "7d5d64df-004b-4e01-8404-2e702017dc4a"
      },
      "execution_count": 15,
      "outputs": [
        {
          "output_type": "display_data",
          "data": {
            "text/plain": [
              "<Figure size 1500x500 with 4 Axes>"
            ],
            "image/png": "[encoded data removed]"
          },
          "metadata": {}
        }
      ]
    },
    {
      "cell_type": "code",
      "source": [
        "def augShear(sample, shearconstraint):\n",
        "    if shearconstraint == 0:\n",
        "        return sample\n",
        "    if len(sample.shape) == 2:\n",
        "        sample = np.expand_dims(sample, 0)\n",
        "    amt = rng.random(len(sample))\n",
        "    amt = (amt - 0.5) * shearconstraint\n",
        "    nsample = sample.copy()\n",
        "    for ii in range(len(sample)):\n",
        "        nsample[ii] = shear(sample[ii], amt[ii])\n",
        "    return np.squeeze(nsample)"
      ],
      "metadata": {
        "id": "J6CzGAMI7QAP"
      },
      "execution_count": 16,
      "outputs": []
    },
    {
      "cell_type": "code",
      "source": [
        "shearconstraints = [\n",
        "    0,\n",
        "    0.2,\n",
        "    0.4,\n",
        "    0.6,\n",
        "    0.8,\n",
        "    1.0,\n",
        "    1.2,\n",
        "    1.4,\n",
        "    1.6,\n",
        "    1.8,\n",
        "    2.0,\n",
        "]\n",
        "accuracies = np.zeros(\n",
        "    len(shearconstraints), dtype=float\n",
        ")\n",
        "\n",
        "for ii in range(len(shearconstraints)):\n",
        "    augdata = train_X\n",
        "    auglabel = train_y\n",
        "    for jj in range(naugmentations):\n",
        "        augdata = np.concatenate(\n",
        "            (augdata, augShear(train_X, shearconstraints[ii]))\n",
        "        )\n",
        "        auglabel = np.concatenate(\n",
        "            (auglabel, train_y)\n",
        "        )\n",
        "    testpred = NN(augdata, auglabel, test_X)\n",
        "    accuracies[ii] = Accuracy(test_y, testpred)\n",
        "    print(\n",
        "        \"Accuracy after shear augmentation constrained by\",\n",
        "        shearconstraints[ii],\n",
        "        \"is\",\n",
        "        accuracies[ii]*100,\n",
        "        \"%\",\n",
        "        flush=True,\n",
        "    )"
      ],
      "metadata": {
        "colab": {
          "base_uri": "https://localhost:8080/"
        },
        "id": "vsJaTqEA7Y5I",
        "outputId": "6d998d9d-4e1d-4c84-a6ee-220b2aae663c"
      },
      "execution_count": 17,
      "outputs": [
        {
          "output_type": "stream",
          "name": "stdout",
          "text": [
            "Accuracy after shear augmentation constrained by 0 is 64.72 %\n",
            "Accuracy after shear augmentation constrained by 0.2 is 62.029999999999994 %\n",
            "Accuracy after shear augmentation constrained by 0.4 is 63.9 %\n",
            "Accuracy after shear augmentation constrained by 0.6 is 64.42999999999999 %\n",
            "Accuracy after shear augmentation constrained by 0.8 is 63.82 %\n",
            "Accuracy after shear augmentation constrained by 1.0 is 63.99 %\n",
            "Accuracy after shear augmentation constrained by 1.2 is 65.36 %\n",
            "Accuracy after shear augmentation constrained by 1.4 is 63.33 %\n",
            "Accuracy after shear augmentation constrained by 1.6 is 61.809999999999995 %\n",
            "Accuracy after shear augmentation constrained by 1.8 is 63.05 %\n",
            "Accuracy after shear augmentation constrained by 2.0 is 61.79 %\n"
          ]
        }
      ]
    },
    {
      "cell_type": "code",
      "source": [
        "fig = plt.figure()\n",
        "ax = fig.add_axes([0.1, 0.1, 0.8, 0.8])\n",
        "ax.plot(shearconstraints, accuracies)\n",
        "ax.set_xlabel(\"angle\")\n",
        "ax.set_ylabel(\"accuracy\")\n",
        "maxind = np.argmax(accuracies)\n",
        "plt.scatter(shearconstraints[maxind], accuracies[maxind], c=\"red\")"
      ],
      "metadata": {
        "id": "6-4cWEsz7jYS"
      },
      "execution_count": 17,
      "outputs": []
    },
    {
      "cell_type": "markdown",
      "source": [
        "Augmentation 3: Rotation + Shear"
      ],
      "metadata": {
        "id": "P0dtX7-d7s_A"
      }
    },
    {
      "cell_type": "code",
      "source": [
        "def augRotateShear(sample, angleconstraint, shearconstraint):\n",
        "    if len(sample.shape) == 2:\n",
        "        sample = np.expand_dims(sample, 0)\n",
        "    amt = rng.random(len(sample))\n",
        "    amt = (amt - 0.5) * shearconstraint\n",
        "    angle = rng.random(len(sample))\n",
        "    angle = (angle - 0.5) * angleconstraint\n",
        "    nsample = sample.copy()\n",
        "    for ii in range(len(sample)):\n",
        "        nsample[ii] = rotate(\n",
        "            shear(sample[ii], amt[ii]), angle[ii]\n",
        "        )\n",
        "    return np.squeeze(nsample)"
      ],
      "metadata": {
        "id": "x0bK9rOn7pqd"
      },
      "execution_count": 18,
      "outputs": []
    },
    {
      "cell_type": "code",
      "source": [
        "shearconstraints = [\n",
        "    0,\n",
        "    0.2,\n",
        "    0.4,\n",
        "    0.6,\n",
        "    0.8,\n",
        "    1.0,\n",
        "    1.2,\n",
        "    1.4,\n",
        "    1.6,\n",
        "]\n",
        "angleconstraints = [0, 10, 20, 30, 40, 50, 60]\n",
        "hyp = cartesian((shearconstraints, angleconstraints))\n",
        "\n",
        "accuracies = np.zeros(len(hyp), dtype=float)\n",
        "for ii in range(len(hyp)):\n",
        "    augdata = train_X\n",
        "    auglabel = train_y\n",
        "    for jj in range(naugmentations):\n",
        "        augdata = np.concatenate(\n",
        "            (augdata, augRotateShear(train_X, hyp[ii][0], hyp[ii][1]))\n",
        "        )\n",
        "        auglabel = np.concatenate(\n",
        "            (auglabel, train_y)\n",
        "        )\n",
        "    testpred = NN(augdata, auglabel, test_X)\n",
        "    accuracies[ii] = Accuracy(test_y, testpred)\n",
        "    print(\n",
        "        \"Accuracy after augmentation shear:\",\n",
        "        hyp[ii][0],\n",
        "        \"angle:\",\n",
        "        hyp[ii][1],\n",
        "        \"is\",\n",
        "        accuracies[ii]*100,\n",
        "        \"%\",\n",
        "        flush=True,\n",
        "    )"
      ],
      "metadata": {
        "colab": {
          "base_uri": "https://localhost:8080/"
        },
        "id": "elKQu3EY765G",
        "outputId": "e19dc714-30a1-4480-b562-dcfbad687801"
      },
      "execution_count": null,
      "outputs": [
        {
          "output_type": "stream",
          "name": "stdout",
          "text": [
            "Accuracy after augmentation shear: 0.0 angle: 0.0 is 63.32 %\n",
            "Accuracy after augmentation shear: 0.0 angle: 10.0 is 59.64 %\n",
            "Accuracy after augmentation shear: 0.0 angle: 20.0 is 58.10999999999999 %\n",
            "Accuracy after augmentation shear: 0.0 angle: 30.0 is 59.699999999999996 %\n",
            "Accuracy after augmentation shear: 0.0 angle: 40.0 is 59.45 %\n",
            "Accuracy after augmentation shear: 0.0 angle: 50.0 is 60.8 %\n",
            "Accuracy after augmentation shear: 0.0 angle: 60.0 is 61.57 %\n",
            "Accuracy after augmentation shear: 0.2 angle: 0.0 is 63.33 %\n",
            "Accuracy after augmentation shear: 0.2 angle: 10.0 is 59.46 %\n",
            "Accuracy after augmentation shear: 0.2 angle: 20.0 is 60.6 %\n",
            "Accuracy after augmentation shear: 0.2 angle: 30.0 is 60.29 %\n",
            "Accuracy after augmentation shear: 0.2 angle: 40.0 is 62.06 %\n",
            "Accuracy after augmentation shear: 0.2 angle: 50.0 is 58.940000000000005 %\n",
            "Accuracy after augmentation shear: 0.2 angle: 60.0 is 61.91 %\n",
            "Accuracy after augmentation shear: 0.4 angle: 0.0 is 63.449999999999996 %\n",
            "Accuracy after augmentation shear: 0.4 angle: 10.0 is 59.699999999999996 %\n",
            "Accuracy after augmentation shear: 0.4 angle: 20.0 is 59.519999999999996 %\n",
            "Accuracy after augmentation shear: 0.4 angle: 30.0 is 58.940000000000005 %\n",
            "Accuracy after augmentation shear: 0.4 angle: 40.0 is 61.35 %\n",
            "Accuracy after augmentation shear: 0.4 angle: 50.0 is 60.050000000000004 %\n",
            "Accuracy after augmentation shear: 0.4 angle: 60.0 is 58.75 %\n",
            "Accuracy after augmentation shear: 0.6 angle: 0.0 is 63.38 %\n",
            "Accuracy after augmentation shear: 0.6 angle: 10.0 is 58.53 %\n",
            "Accuracy after augmentation shear: 0.6 angle: 20.0 is 59.5 %\n",
            "Accuracy after augmentation shear: 0.6 angle: 30.0 is 56.63 %\n",
            "Accuracy after augmentation shear: 0.6 angle: 40.0 is 60.12 %\n",
            "Accuracy after augmentation shear: 0.6 angle: 50.0 is 60.61 %\n",
            "Accuracy after augmentation shear: 0.6 angle: 60.0 is 61.6 %\n",
            "Accuracy after augmentation shear: 0.8 angle: 0.0 is 63.46000000000001 %\n",
            "Accuracy after augmentation shear: 0.8 angle: 10.0 is 63.629999999999995 %\n",
            "Accuracy after augmentation shear: 0.8 angle: 20.0 is 58.91 %\n",
            "Accuracy after augmentation shear: 0.8 angle: 30.0 is 59.0 %\n",
            "Accuracy after augmentation shear: 0.8 angle: 40.0 is 59.62 %\n",
            "Accuracy after augmentation shear: 0.8 angle: 50.0 is 59.160000000000004 %\n",
            "Accuracy after augmentation shear: 0.8 angle: 60.0 is 60.419999999999995 %\n",
            "Accuracy after augmentation shear: 1.0 angle: 0.0 is 63.24999999999999 %\n",
            "Accuracy after augmentation shear: 1.0 angle: 10.0 is 59.99 %\n",
            "Accuracy after augmentation shear: 1.0 angle: 20.0 is 55.620000000000005 %\n",
            "Accuracy after augmentation shear: 1.0 angle: 30.0 is 60.089999999999996 %\n",
            "Accuracy after augmentation shear: 1.0 angle: 40.0 is 58.58 %\n",
            "Accuracy after augmentation shear: 1.0 angle: 50.0 is 59.230000000000004 %\n",
            "Accuracy after augmentation shear: 1.0 angle: 60.0 is 60.040000000000006 %\n",
            "Accuracy after augmentation shear: 1.2 angle: 0.0 is 63.18 %\n",
            "Accuracy after augmentation shear: 1.2 angle: 10.0 is 60.650000000000006 %\n",
            "Accuracy after augmentation shear: 1.2 angle: 20.0 is 58.089999999999996 %\n",
            "Accuracy after augmentation shear: 1.2 angle: 30.0 is 60.870000000000005 %\n",
            "Accuracy after augmentation shear: 1.2 angle: 40.0 is 59.91 %\n",
            "Accuracy after augmentation shear: 1.2 angle: 50.0 is 60.92999999999999 %\n",
            "Accuracy after augmentation shear: 1.2 angle: 60.0 is 60.29 %\n",
            "Accuracy after augmentation shear: 1.4 angle: 0.0 is 63.6 %\n",
            "Accuracy after augmentation shear: 1.4 angle: 10.0 is 59.24 %\n",
            "Accuracy after augmentation shear: 1.4 angle: 20.0 is 61.370000000000005 %\n"
          ]
        }
      ]
    },
    {
      "cell_type": "code",
      "source": [
        "fig = plt.figure()\n",
        "ax = fig.add_axes([0.1, 0.1, 0.8, 0.8])\n",
        "im = ax.imshow(\n",
        "    accuracies.reshape((len(shearconstraints), len(angleconstraints))), cmap=\"hot\"\n",
        ")\n",
        "ax.set_xlabel(\"Angle\")\n",
        "ax.set_ylabel(\"Shear\")\n",
        "ax.set_xticks(np.arange(len(angleconstraints)))\n",
        "ax.set_xticklabels(angleconstraints)\n",
        "ax.set_yticks(np.arange(len(shearconstraints)))\n",
        "ax.set_yticklabels(shearconstraints)\n",
        "plt.colorbar(im)"
      ],
      "metadata": {
        "id": "dAawdZ5G8Kdk"
      },
      "execution_count": null,
      "outputs": []
    },
    {
      "cell_type": "markdown",
      "source": [
        "1. Best Values for Angle Constraint and Shear Constraint\n",
        "The best values for angle and shear constraints will be highly dependent on the specific dataset and model you are using. For example:\n",
        "\n",
        "Angle Constraint: Common values range from -20 to 20 degrees. You can start with smaller values, like ±10 degrees, and increase gradually.\n",
        "Shear Constraint: This can vary from 0.1 to 0.3 in many scenarios. Again, starting with smaller values and increasing them can help you find an optimal range.\n",
        "Experiment: You can run several trials with different ranges for each constraint and measure the model’s performance on validation data."
      ],
      "metadata": {
        "id": "v_J9FWgp8RzT"
      }
    },
    {
      "cell_type": "markdown",
      "source": [
        "2.Adding data augmentations like rotation, flipping, scaling, and shearing can significantly improve model accuracy. You should compare the model's accuracy with and without these augmentations.\n",
        "\n",
        "Example: If initially your model had an accuracy of 85%, after applying augmentations, it might increase to 90%. The exact improvement will depend on how well the augmentations match the variations in the test data."
      ],
      "metadata": {
        "id": "OGo0GJbG87tf"
      }
    },
    {
      "cell_type": "markdown",
      "source": [
        "3.Increasing the number of augmentations typically leads to better generalization. However, after a certain point, the returns might diminish, and training time will increase.\n",
        "\n",
        "Experiment: Start by generating a few augmentations per sample (e.g., 3) and gradually increase (e.g., to 5, 10, etc.). Track the accuracy changes on a validation set to find an optimal balance."
      ],
      "metadata": {
        "id": "sKbSdbWl9B0A"
      }
    },
    {
      "cell_type": "markdown",
      "source": [
        "4.Combining augmentations like rotation, scaling, and shear can create more robust models.\n",
        "\n",
        "Experiment: Systematically combine different types of augmentations and evaluate performance on a validation set. For example, you might combine rotation and shearing and compare that against combinations of rotation, shear, and scaling. Smallest Training Dataset with Accuracy Above 50%\n",
        "To find the smallest training dataset that still achieves accuracy above 50%, you will need to perform a series of down-sampling experiments:\n",
        "\n",
        "Experiment: Start with a large, balanced dataset and gradually reduce its size while applying augmentations. Evaluate the model’s performance after each reduction."
      ],
      "metadata": {
        "id": "Lq2wXWGs9IC7"
      }
    },
    {
      "cell_type": "markdown",
      "source": [
        "exercise:"
      ],
      "metadata": {
        "id": "_NsVkMZo9UU4"
      }
    },
    {
      "cell_type": "code",
      "source": [
        "import numpy as np\n",
        "from keras.datasets import mnist\n",
        "from keras.preprocessing.image import ImageDataGenerator\n",
        "from keras.models import Sequential\n",
        "from keras.layers import Dense, Conv2D, Flatten\n",
        "from keras.utils import to_categorical\n",
        "\n",
        "# Load Data\n",
        "(x_train, y_train), (x_test, y_test) = mnist.load_data()\n",
        "x_train, x_test = x_train / 255.0, x_test / 255.0\n",
        "\n",
        "x_small, y_small = [], []\n",
        "for d in range(10):\n",
        "    idxs = np.where(y_train == d)[0][:50]\n",
        "    x_small.append(x_train[idxs])\n",
        "    y_small.append(y_train[idxs])\n",
        "x_small, y_small = np.concatenate(x_small), np.concatenate(y_small)\n",
        "\n",
        "datagen = ImageDataGenerator(\n",
        "    rotation_range=10,\n",
        "    width_shift_range=0.1,\n",
        "    height_shift_range=0.1,\n",
        "    shear_range=0.1,\n",
        "    zoom_range=0.1\n",
        ")\n",
        "datagen.fit(x_small.reshape((-1, 28, 28, 1)))\n",
        "model = Sequential([\n",
        "    Conv2D(32, kernel_size=(3,3), activation='relu', input_shape=(28,28,1)),\n",
        "    Flatten(),\n",
        "    Dense(100, activation='relu\n"
      ],
      "metadata": {
        "id": "A4YxU5Qe9SXQ"
      },
      "execution_count": null,
      "outputs": []
    },
    {
      "cell_type": "code",
      "source": [],
      "metadata": {
        "id": "CugU9lZY8QsP"
      },
      "execution_count": null,
      "outputs": []
    },
    {
      "cell_type": "code",
      "source": [],
      "metadata": {
        "id": "BdCZYyDJ9SdT"
      },
      "execution_count": null,
      "outputs": []
    }
  ]
}